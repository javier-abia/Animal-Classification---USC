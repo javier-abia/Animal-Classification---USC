{
 "cells": [
  {
   "cell_type": "markdown",
   "id": "21fe0bcc",
   "metadata": {},
   "source": [
    "## Introducción al dataset"
   ]
  },
  {
   "cell_type": "markdown",
   "id": "3117eedb",
   "metadata": {},
   "source": [
    "Para este trabajo, hemos escogido un dataset que consta de 101 animales de un zoo. Hay 16 variables booleanas que describen en cierta medida al animal. Es decir, cada una de esas variables se corresponde con un atributo (pelo, plumas, depredador) que será un 1 si posee dicha cualidad y un 0 si no la posee. \n",
    "\n",
    "El objetivo de este trabajo es aplicar un modelo SLP (Single Layer Perceptron o *Perceptron de Una Sola Capa*) que clasifique cada animal en una de las clases, dependiendo de los atributos que posea."
   ]
  },
  {
   "cell_type": "markdown",
   "id": "e5e4d426",
   "metadata": {},
   "source": [
    "---"
   ]
  },
  {
   "cell_type": "markdown",
   "id": "aa2e3f89",
   "metadata": {},
   "source": [
    "## 1. Importar librerías"
   ]
  },
  {
   "cell_type": "code",
   "execution_count": 1,
   "id": "eb40c4d9",
   "metadata": {},
   "outputs": [
    {
     "name": "stderr",
     "output_type": "stream",
     "text": [
      "2022-11-10 10:19:11.002158: I tensorflow/core/platform/cpu_feature_guard.cc:193] This TensorFlow binary is optimized with oneAPI Deep Neural Network Library (oneDNN) to use the following CPU instructions in performance-critical operations:  AVX2 FMA\n",
      "To enable them in other operations, rebuild TensorFlow with the appropriate compiler flags.\n",
      "2022-11-10 10:19:11.364398: W tensorflow/stream_executor/platform/default/dso_loader.cc:64] Could not load dynamic library 'libcudart.so.11.0'; dlerror: libcudart.so.11.0: cannot open shared object file: No such file or directory\n",
      "2022-11-10 10:19:11.364429: I tensorflow/stream_executor/cuda/cudart_stub.cc:29] Ignore above cudart dlerror if you do not have a GPU set up on your machine.\n",
      "2022-11-10 10:19:11.429816: E tensorflow/stream_executor/cuda/cuda_blas.cc:2981] Unable to register cuBLAS factory: Attempting to register factory for plugin cuBLAS when one has already been registered\n",
      "2022-11-10 10:19:12.696113: W tensorflow/stream_executor/platform/default/dso_loader.cc:64] Could not load dynamic library 'libnvinfer.so.7'; dlerror: libnvinfer.so.7: cannot open shared object file: No such file or directory\n",
      "2022-11-10 10:19:12.696225: W tensorflow/stream_executor/platform/default/dso_loader.cc:64] Could not load dynamic library 'libnvinfer_plugin.so.7'; dlerror: libnvinfer_plugin.so.7: cannot open shared object file: No such file or directory\n",
      "2022-11-10 10:19:12.696236: W tensorflow/compiler/tf2tensorrt/utils/py_utils.cc:38] TF-TRT Warning: Cannot dlopen some TensorRT libraries. If you would like to use Nvidia GPU with TensorRT, please make sure the missing libraries mentioned above are installed properly.\n"
     ]
    }
   ],
   "source": [
    "import tensorflow.compat.v1 as tf # Usaremos la versión 1 de Tensorflow por simplicidad\n",
    "import pandas as pd\n",
    "from sklearn.model_selection import train_test_split\n",
    "import matplotlib.pyplot as plt\n",
    "import seaborn as sns"
   ]
  },
  {
   "cell_type": "markdown",
   "id": "f9c977e2",
   "metadata": {},
   "source": [
    "---"
   ]
  },
  {
   "cell_type": "markdown",
   "id": "6991afff",
   "metadata": {},
   "source": [
    "## 2. Explorar el dataset"
   ]
  },
  {
   "cell_type": "markdown",
   "id": "61dacbb0",
   "metadata": {},
   "source": [
    "### 2.1 - Importar dataset"
   ]
  },
  {
   "cell_type": "code",
   "execution_count": 2,
   "id": "a0aa0d84",
   "metadata": {},
   "outputs": [
    {
     "data": {
      "text/html": [
       "<div>\n",
       "<style scoped>\n",
       "    .dataframe tbody tr th:only-of-type {\n",
       "        vertical-align: middle;\n",
       "    }\n",
       "\n",
       "    .dataframe tbody tr th {\n",
       "        vertical-align: top;\n",
       "    }\n",
       "\n",
       "    .dataframe thead th {\n",
       "        text-align: right;\n",
       "    }\n",
       "</style>\n",
       "<table border=\"1\" class=\"dataframe\">\n",
       "  <thead>\n",
       "    <tr style=\"text-align: right;\">\n",
       "      <th></th>\n",
       "      <th>animal_name</th>\n",
       "      <th>hair</th>\n",
       "      <th>feathers</th>\n",
       "      <th>eggs</th>\n",
       "      <th>milk</th>\n",
       "      <th>airborne</th>\n",
       "      <th>aquatic</th>\n",
       "      <th>predator</th>\n",
       "      <th>toothed</th>\n",
       "      <th>backbone</th>\n",
       "      <th>breathes</th>\n",
       "      <th>venomous</th>\n",
       "      <th>fins</th>\n",
       "      <th>legs</th>\n",
       "      <th>tail</th>\n",
       "      <th>domestic</th>\n",
       "      <th>catsize</th>\n",
       "      <th>class_type</th>\n",
       "    </tr>\n",
       "  </thead>\n",
       "  <tbody>\n",
       "    <tr>\n",
       "      <th>0</th>\n",
       "      <td>aardvark</td>\n",
       "      <td>1</td>\n",
       "      <td>0</td>\n",
       "      <td>0</td>\n",
       "      <td>1</td>\n",
       "      <td>0</td>\n",
       "      <td>0</td>\n",
       "      <td>1</td>\n",
       "      <td>1</td>\n",
       "      <td>1</td>\n",
       "      <td>1</td>\n",
       "      <td>0</td>\n",
       "      <td>0</td>\n",
       "      <td>4</td>\n",
       "      <td>0</td>\n",
       "      <td>0</td>\n",
       "      <td>1</td>\n",
       "      <td>1</td>\n",
       "    </tr>\n",
       "    <tr>\n",
       "      <th>1</th>\n",
       "      <td>antelope</td>\n",
       "      <td>1</td>\n",
       "      <td>0</td>\n",
       "      <td>0</td>\n",
       "      <td>1</td>\n",
       "      <td>0</td>\n",
       "      <td>0</td>\n",
       "      <td>0</td>\n",
       "      <td>1</td>\n",
       "      <td>1</td>\n",
       "      <td>1</td>\n",
       "      <td>0</td>\n",
       "      <td>0</td>\n",
       "      <td>4</td>\n",
       "      <td>1</td>\n",
       "      <td>0</td>\n",
       "      <td>1</td>\n",
       "      <td>1</td>\n",
       "    </tr>\n",
       "    <tr>\n",
       "      <th>2</th>\n",
       "      <td>bass</td>\n",
       "      <td>0</td>\n",
       "      <td>0</td>\n",
       "      <td>1</td>\n",
       "      <td>0</td>\n",
       "      <td>0</td>\n",
       "      <td>1</td>\n",
       "      <td>1</td>\n",
       "      <td>1</td>\n",
       "      <td>1</td>\n",
       "      <td>0</td>\n",
       "      <td>0</td>\n",
       "      <td>1</td>\n",
       "      <td>0</td>\n",
       "      <td>1</td>\n",
       "      <td>0</td>\n",
       "      <td>0</td>\n",
       "      <td>4</td>\n",
       "    </tr>\n",
       "    <tr>\n",
       "      <th>3</th>\n",
       "      <td>bear</td>\n",
       "      <td>1</td>\n",
       "      <td>0</td>\n",
       "      <td>0</td>\n",
       "      <td>1</td>\n",
       "      <td>0</td>\n",
       "      <td>0</td>\n",
       "      <td>1</td>\n",
       "      <td>1</td>\n",
       "      <td>1</td>\n",
       "      <td>1</td>\n",
       "      <td>0</td>\n",
       "      <td>0</td>\n",
       "      <td>4</td>\n",
       "      <td>0</td>\n",
       "      <td>0</td>\n",
       "      <td>1</td>\n",
       "      <td>1</td>\n",
       "    </tr>\n",
       "    <tr>\n",
       "      <th>4</th>\n",
       "      <td>boar</td>\n",
       "      <td>1</td>\n",
       "      <td>0</td>\n",
       "      <td>0</td>\n",
       "      <td>1</td>\n",
       "      <td>0</td>\n",
       "      <td>0</td>\n",
       "      <td>1</td>\n",
       "      <td>1</td>\n",
       "      <td>1</td>\n",
       "      <td>1</td>\n",
       "      <td>0</td>\n",
       "      <td>0</td>\n",
       "      <td>4</td>\n",
       "      <td>1</td>\n",
       "      <td>0</td>\n",
       "      <td>1</td>\n",
       "      <td>1</td>\n",
       "    </tr>\n",
       "  </tbody>\n",
       "</table>\n",
       "</div>"
      ],
      "text/plain": [
       "  animal_name  hair  feathers  eggs  milk  airborne  aquatic  predator  \\\n",
       "0    aardvark     1         0     0     1         0        0         1   \n",
       "1    antelope     1         0     0     1         0        0         0   \n",
       "2        bass     0         0     1     0         0        1         1   \n",
       "3        bear     1         0     0     1         0        0         1   \n",
       "4        boar     1         0     0     1         0        0         1   \n",
       "\n",
       "   toothed  backbone  breathes  venomous  fins  legs  tail  domestic  catsize  \\\n",
       "0        1         1         1         0     0     4     0         0        1   \n",
       "1        1         1         1         0     0     4     1         0        1   \n",
       "2        1         1         0         0     1     0     1         0        0   \n",
       "3        1         1         1         0     0     4     0         0        1   \n",
       "4        1         1         1         0     0     4     1         0        1   \n",
       "\n",
       "   class_type  \n",
       "0           1  \n",
       "1           1  \n",
       "2           4  \n",
       "3           1  \n",
       "4           1  "
      ]
     },
     "execution_count": 2,
     "metadata": {},
     "output_type": "execute_result"
    }
   ],
   "source": [
    "zoo = pd.read_csv('zoo.csv')\n",
    "\n",
    "\n",
    "# Mostramos las primeras 5 filas para visualizar el dataset\n",
    "zoo.head()"
   ]
  },
  {
   "cell_type": "markdown",
   "id": "bee27360",
   "metadata": {},
   "source": [
    "### 2.2 - Leer/interpretar dataset"
   ]
  },
  {
   "cell_type": "code",
   "execution_count": 3,
   "id": "9ec1c2f5",
   "metadata": {},
   "outputs": [
    {
     "name": "stdout",
     "output_type": "stream",
     "text": [
      "Este dataset contiene:\n",
      " - 101 animales (filas)\n",
      " - 7 clases de animales\n",
      " - 16 atributos para cada animal (columnas)\n"
     ]
    }
   ],
   "source": [
    "print(f'Este dataset contiene:\\n - {len(zoo)} animales (filas)\\n - {max(zoo[\"class_type\"])} clases de animales\\n - {len(zoo.columns) -2} atributos para cada animal (columnas)')"
   ]
  },
  {
   "cell_type": "markdown",
   "id": "2d0e2d63",
   "metadata": {},
   "source": [
    "Es importante mencionar que las 7 clases de animales en este dataset se corresponden con: mamíferos, aves, reptiles, peces, amfibios, insectos e invertebrados."
   ]
  },
  {
   "cell_type": "markdown",
   "id": "56cfa010",
   "metadata": {},
   "source": [
    "###### Veamos cuantos animales hay para cada clase"
   ]
  },
  {
   "cell_type": "code",
   "execution_count": 4,
   "id": "c520c185",
   "metadata": {},
   "outputs": [
    {
     "data": {
      "text/plain": [
       "[Text(0.5, 0, 'Tipos de clases'), Text(0, 0.5, 'Número de animales')]"
      ]
     },
     "execution_count": 4,
     "metadata": {},
     "output_type": "execute_result"
    },
    {
     "data": {
      "image/png": "[encoded data removed]",
      "text/plain": [
       "<Figure size 640x480 with 1 Axes>"
      ]
     },
     "metadata": {},
     "output_type": "display_data"
    }
   ],
   "source": [
    "sns.set_style('whitegrid') # Seleccionamos el estilo de las gráficas en Seaborn\n",
    "ax = sns.countplot(zoo, x = 'class_type') # Histograma de las clases\n",
    "ax.set(xlabel='Tipos de clases', ylabel='Número de animales')"
   ]
  },
  {
   "cell_type": "markdown",
   "id": "6121ccff",
   "metadata": {},
   "source": [
    "### 2.3 - Correlaciones"
   ]
  },
  {
   "cell_type": "markdown",
   "id": "df8c1dcc",
   "metadata": {},
   "source": [
    "Al mostrar las correlaciones entre atributos, podemos ver alguna relación interesante sobre como llegará a actuar el modelo de Machine Learning al entrenarlo"
   ]
  },
  {
   "cell_type": "code",
   "execution_count": 5,
   "id": "b4169639",
   "metadata": {},
   "outputs": [
    {
     "data": {
      "text/plain": [
       "<AxesSubplot: >"
      ]
     },
     "execution_count": 5,
     "metadata": {},
     "output_type": "execute_result"
    },
    {
     "data": {
      "image/png": "[encoded data removed]",
      "text/plain": [
       "<Figure size 640x480 with 2 Axes>"
      ]
     },
     "metadata": {},
     "output_type": "display_data"
    }
   ],
   "source": [
    "# Con iloc[] tomaremos solo los datos numéricos del dataset\n",
    "# Obviando los nombres de los animales y las clases\n",
    "data = zoo.iloc[:,1:-1]\n",
    "corr = data.corr()\n",
    "sns.heatmap(corr, annot=True, annot_kws={'size':6}, fmt = '.2f')"
   ]
  },
  {
   "cell_type": "markdown",
   "id": "e3eb583e",
   "metadata": {},
   "source": [
    "---"
   ]
  },
  {
   "cell_type": "markdown",
   "id": "c5f833cc",
   "metadata": {},
   "source": [
    "## 3. Preparación de los datos para el modelo de ML"
   ]
  },
  {
   "cell_type": "markdown",
   "id": "554f4f38",
   "metadata": {},
   "source": [
    " ### 3.1 - Dividir dataset entre Feature data y Label data"
   ]
  },
  {
   "cell_type": "code",
   "execution_count": 6,
   "id": "2817e042",
   "metadata": {},
   "outputs": [],
   "source": [
    "x_data = zoo.iloc[:,:-1] # Datos sin la columna que indica la clase del animal\n",
    "y_data = zoo.iloc[:,-1:] # Solo la columna de clase del animal para comparar con los resultados"
   ]
  },
  {
   "cell_type": "code",
   "execution_count": 7,
   "id": "d6eed4d7",
   "metadata": {},
   "outputs": [
    {
     "name": "stdout",
     "output_type": "stream",
     "text": [
      "Feature Data: (101, 17)\n",
      "Label Data: (101, 1)\n"
     ]
    }
   ],
   "source": [
    "# Comprobamos que las dimensiones son correctas\n",
    "print(\"Feature Data:\", x_data.shape)\n",
    "print(\"Label Data:\", y_data.shape)"
   ]
  },
  {
   "cell_type": "markdown",
   "id": "278a6ef3",
   "metadata": {},
   "source": [
    "### Dividir entre Train set y Test set"
   ]
  },
  {
   "cell_type": "markdown",
   "id": "c2574f4a",
   "metadata": {},
   "source": [
    "Dividiremos nuestros datos en 2: el 70% será usado para entrenar a la red neuronal (*Train set*) y el 30% restante será usado para comprobar su correcto funcionamiento en lo que llamaremos *Test set*"
   ]
  },
  {
   "cell_type": "markdown",
   "id": "e525a7c6",
   "metadata": {},
   "source": [
    "Usamos la función *train_test_split()* de la librería **sklearn.model_selection**"
   ]
  },
  {
   "cell_type": "code",
   "execution_count": 8,
   "id": "a7527970",
   "metadata": {},
   "outputs": [],
   "source": [
    "train_x, test_x, train_y, test_y = train_test_split(x_data, y_data, test_size=0.3, random_state=42, stratify=y_data)"
   ]
  },
  {
   "cell_type": "code",
   "execution_count": 9,
   "id": "15b4e78f",
   "metadata": {},
   "outputs": [
    {
     "name": "stdout",
     "output_type": "stream",
     "text": [
      "Training set : (70, 17)\n",
      "Testing set: (31, 17)\n"
     ]
    }
   ],
   "source": [
    "# Comprobamos que las dimensiones son correctas\n",
    "print(\"Training set :\", train_x.shape)\n",
    "print(\"Testing set:\", test_x.shape)"
   ]
  },
  {
   "cell_type": "markdown",
   "id": "00f56011",
   "metadata": {},
   "source": [
    "La columna con con los nombres de animales la guardaremos en una variable y eliminaremos de las matrices actuales de datos. La razón de no haberlo hecho antes reside en que hemos \"randomizado\" el orden de los animales y así, si se quisiera, podríamos seguir identificando a todos los animales"
   ]
  },
  {
   "cell_type": "code",
   "execution_count": 10,
   "id": "7c047c7d",
   "metadata": {},
   "outputs": [
    {
     "name": "stdout",
     "output_type": "stream",
     "text": [
      "El 'train set' tiene las dimensiones: (70, 16)\n",
      "El 'test set' tiene las dimensiones: (31, 16)\n"
     ]
    }
   ],
   "source": [
    "train_name = train_x['animal_name']\n",
    "test_name = test_x['animal_name']\n",
    "\n",
    "train_x = train_x.iloc[:,1:]\n",
    "test_x = test_x.iloc[:,1:]\n",
    "\n",
    "# Volvemos a comprobar que las dimensiones son correctas\n",
    "print(\"El 'train set' tiene las dimensiones:\",train_x.shape)\n",
    "print(\"El 'test set' tiene las dimensiones:\",test_x.shape)"
   ]
  },
  {
   "cell_type": "markdown",
   "id": "67eb2471",
   "metadata": {},
   "source": [
    "## 4. Creación del modelo SLP"
   ]
  },
  {
   "cell_type": "markdown",
   "id": "933fca2a",
   "metadata": {},
   "source": [
    "Es importante mencionar que a partir de aquí usaremos las funciones de Tensorflow por su simplicidad, sin embargo, esto solo es una manera de hacerlo y no es necesario ya que también hay parte del código que se podría hacer con *numpy*."
   ]
  },
  {
   "cell_type": "markdown",
   "id": "026d03ec",
   "metadata": {},
   "source": [
    "### 4.1 - Asignación de variables dinámica con *placeholder*"
   ]
  },
  {
   "cell_type": "markdown",
   "id": "dfc35356",
   "metadata": {},
   "source": [
    "Un **placeholder** es una variable en Tensorflow a la que se le asignarán datos más adelante. Nos permite crear procesos u operaciones sin necesidad de datos."
   ]
  },
  {
   "cell_type": "code",
   "execution_count": 11,
   "id": "2dd6aba5",
   "metadata": {},
   "outputs": [],
   "source": [
    "# Debemos desactivar eager_execution porque la función que usaremos no es compatible\n",
    "tf.disable_eager_execution()\n",
    "\n",
    "X = tf.placeholder(tf.float32, [None,16]) \n",
    "Y = tf.placeholder(tf.int32, [None, 1])"
   ]
  },
  {
   "cell_type": "markdown",
   "id": "98fce76d",
   "metadata": {},
   "source": [
    "### 4.2 - One-hot encoding"
   ]
  },
  {
   "cell_type": "markdown",
   "id": "60c4626e",
   "metadata": {},
   "source": [
    "Para este problema, usaremos lo que se conoce como *one-hot encoding*. Es una manera de analizar los datos basada en pasar datos categóricos a datos numéricos muy conveniente cuando el resultado de nuestra predicción incluye más de dos opciones. Como en nuestro caso implica determinar en cual de las 7 clases se encuentra un animal, nos facilitará la tarea. Para ello, usaremos la función *one_hot* de la librería Tensorflow"
   ]
  },
  {
   "cell_type": "code",
   "execution_count": 12,
   "id": "f655bfcd",
   "metadata": {},
   "outputs": [],
   "source": [
    "Y_one_hot = tf.one_hot(Y,7)\n",
    "Y_one_hot = tf.reshape(Y_one_hot, [-1,7])"
   ]
  },
  {
   "cell_type": "markdown",
   "id": "55314c46",
   "metadata": {},
   "source": [
    "### 4.3 - Inicializar valores de *weight* y *bias*"
   ]
  },
  {
   "cell_type": "markdown",
   "id": "43107b72",
   "metadata": {},
   "source": [
    "Inicializamos los valores de manera aleatoria y definimos las variables de *weight* y *bias* con la función Variable() de Tensorflow."
   ]
  },
  {
   "cell_type": "code",
   "execution_count": 13,
   "id": "43334134",
   "metadata": {},
   "outputs": [],
   "source": [
    "W = tf.Variable(tf.random_normal([16, 7],seed=0), name='weight')\n",
    "b = tf.Variable(tf.random_normal([7],seed=0), name='bias')"
   ]
  },
  {
   "cell_type": "code",
   "execution_count": 14,
   "id": "18f7f99f",
   "metadata": {},
   "outputs": [],
   "source": [
    "logits = tf.matmul(X, W) + b # Donde matmul es una función de Tensorflow para multiplicar matrices\n",
    "\n",
    "# Normalizamos nuestra función clasificadora inicial\n",
    "hypothesis = tf.nn.softmax(logits)"
   ]
  },
  {
   "cell_type": "code",
   "execution_count": 15,
   "id": "73a06825",
   "metadata": {},
   "outputs": [],
   "source": [
    "# Definimos la función de coste (cost function) de cada elemento de X\n",
    "cost_i = tf.nn.softmax_cross_entropy_with_logits_v2(logits=logits,labels=Y_one_hot)\n",
    "cost = tf.reduce_mean(cost_i)"
   ]
  },
  {
   "cell_type": "code",
   "execution_count": 16,
   "id": "a968692a",
   "metadata": {},
   "outputs": [],
   "source": [
    "# Entrenamos el modelo usando el descenso del gradiente\n",
    "# de manera que disminuímos la función de coste a una frecuencia de 0.05.\n",
    "train  = tf.train.GradientDescentOptimizer(learning_rate=0.05).minimize(cost)"
   ]
  },
  {
   "cell_type": "code",
   "execution_count": 17,
   "id": "49ff0710",
   "metadata": {},
   "outputs": [],
   "source": [
    "prediction = tf.argmax(hypothesis, 1)\n",
    "correct_prediction = tf.equal(prediction, tf.argmax(Y_one_hot, 1))\n",
    "accuracy = tf.reduce_mean(tf.cast(correct_prediction, tf.float32))"
   ]
  },
  {
   "cell_type": "markdown",
   "id": "4b3e6674",
   "metadata": {},
   "source": [
    "Donde:\n",
    "- *prediction*: Es el índice del valor máximo de cada fila, que se corresponde con el output (la clase del animal), lo logramos recorriendo las filas de nuestro tensor **hypothesis** y encontrando el mayor valor/*weight*.\n",
    "- *correct_prediction*: Compara nuestra predicción con el valor esperado (relación *True/False*)\n",
    "- *accuracy*: Indica el porcentaje de aciertos. Para ello, primeramente pasamos nuestras predicciones de *True/False* a *1/0* con la función tf.cast() y hacemos la media. "
   ]
  },
  {
   "cell_type": "code",
   "execution_count": 18,
   "id": "7b1d5601",
   "metadata": {},
   "outputs": [
    {
     "name": "stderr",
     "output_type": "stream",
     "text": [
      "2022-11-10 10:19:17.387392: W tensorflow/stream_executor/platform/default/dso_loader.cc:64] Could not load dynamic library 'libcuda.so.1'; dlerror: libcuda.so.1: cannot open shared object file: No such file or directory\n",
      "2022-11-10 10:19:17.387640: W tensorflow/stream_executor/cuda/cuda_driver.cc:263] failed call to cuInit: UNKNOWN ERROR (303)\n",
      "2022-11-10 10:19:17.387672: I tensorflow/stream_executor/cuda/cuda_diagnostics.cc:156] kernel driver does not appear to be running on this host (svik): /proc/driver/nvidia/version does not exist\n",
      "2022-11-10 10:19:17.388968: I tensorflow/core/platform/cpu_feature_guard.cc:193] This TensorFlow binary is optimized with oneAPI Deep Neural Network Library (oneDNN) to use the following CPU instructions in performance-critical operations:  AVX2 FMA\n",
      "To enable them in other operations, rebuild TensorFlow with the appropriate compiler flags.\n",
      "2022-11-10 10:19:17.395644: I tensorflow/compiler/mlir/mlir_graph_optimization_pass.cc:354] MLIR V1 optimization pass is not enabled\n"
     ]
    },
    {
     "name": "stdout",
     "output_type": "stream",
     "text": [
      "Iteración:     0\tError: 3.402\tPrecisión: 30.00%\n",
      "Iteración:  1000\tError: 0.135\tPrecisión: 87.14%\n",
      "Iteración:  2000\tError: 0.076\tPrecisión: 90.00%\n",
      "Iteración:  3000\tError: 0.054\tPrecisión: 90.00%\n",
      "Iteración:  4000\tError: 0.043\tPrecisión: 90.00%\n",
      "Iteración:  5000\tError: 0.037\tPrecisión: 90.00%\n",
      "Precisión en el entrenamiento = 90.00%\n",
      "Precisión en el test = 93.55%\n"
     ]
    }
   ],
   "source": [
    "with tf.Session() as sess:\n",
    "    sess.run(tf.global_variables_initializer()) # Inicializamos las variables globales\n",
    "    for step in range(5001): # Realizaremos 5001 iteraciones para entrenar el modelo\n",
    "        \n",
    "        # Realizamos el descenso del gradiente introduciendo los valores de\n",
    "        # train_x y train_y a los placeholders X e Y.\n",
    "        sess.run(train, feed_dict={X: train_x, Y: train_y})\n",
    "        \n",
    "        # Mostramos cada 1000 iteraciones el error y la precisión\n",
    "        if step % 1000 == 0:\n",
    "            # Ejecutamos las funciones de coste y accuracy\n",
    "            loss, acc = sess.run([cost, accuracy], feed_dict={X: train_x, Y: train_y})\n",
    "            print(\"Iteración: {:5}\\tError: {:.3f}\\tPrecisión: {:.2%}\".format(step, loss, acc))\n",
    "            \n",
    "    # Indicamos la precisión final del modelo\n",
    "    train_acc = sess.run(accuracy, feed_dict={X: train_x, Y: train_y})\n",
    "    \n",
    "    # Ejecutamos el modelo con los datos del *test set*\n",
    "    test_acc,test_predict,test_correct = sess.run([accuracy,prediction,correct_prediction], feed_dict={X: test_x, Y: test_y})\n",
    "    print(f'Precisión en el entrenamiento = {train_acc*100:.2f}%')\n",
    "    print(f'Precisión en el test = {test_acc*100:.2f}%')"
   ]
  },
  {
   "cell_type": "markdown",
   "id": "6851cee9",
   "metadata": {},
   "source": [
    "## 5. Predicción del test"
   ]
  },
  {
   "cell_type": "markdown",
   "id": "e120ad5a",
   "metadata": {},
   "source": [
    "Mostramos los resultados finales creando un DataFrame con pandas"
   ]
  },
  {
   "cell_type": "code",
   "execution_count": 21,
   "id": "6c90d5e5",
   "metadata": {},
   "outputs": [
    {
     "data": {
      "text/html": [
       "<div>\n",
       "<style scoped>\n",
       "    .dataframe tbody tr th:only-of-type {\n",
       "        vertical-align: middle;\n",
       "    }\n",
       "\n",
       "    .dataframe tbody tr th {\n",
       "        vertical-align: top;\n",
       "    }\n",
       "\n",
       "    .dataframe thead th {\n",
       "        text-align: right;\n",
       "    }\n",
       "</style>\n",
       "<table border=\"1\" class=\"dataframe\">\n",
       "  <thead>\n",
       "    <tr style=\"text-align: right;\">\n",
       "      <th></th>\n",
       "      <th>Animal</th>\n",
       "      <th>Predicción clase</th>\n",
       "      <th>Clase original</th>\n",
       "      <th>Correcto</th>\n",
       "    </tr>\n",
       "  </thead>\n",
       "  <tbody>\n",
       "    <tr>\n",
       "      <th>100</th>\n",
       "      <td>wren</td>\n",
       "      <td>2</td>\n",
       "      <td>2</td>\n",
       "      <td>True</td>\n",
       "    </tr>\n",
       "    <tr>\n",
       "      <th>58</th>\n",
       "      <td>penguin</td>\n",
       "      <td>2</td>\n",
       "      <td>2</td>\n",
       "      <td>True</td>\n",
       "    </tr>\n",
       "    <tr>\n",
       "      <th>43</th>\n",
       "      <td>lark</td>\n",
       "      <td>2</td>\n",
       "      <td>2</td>\n",
       "      <td>True</td>\n",
       "    </tr>\n",
       "    <tr>\n",
       "      <th>21</th>\n",
       "      <td>duck</td>\n",
       "      <td>2</td>\n",
       "      <td>2</td>\n",
       "      <td>True</td>\n",
       "    </tr>\n",
       "    <tr>\n",
       "      <th>10</th>\n",
       "      <td>cheetah</td>\n",
       "      <td>1</td>\n",
       "      <td>1</td>\n",
       "      <td>True</td>\n",
       "    </tr>\n",
       "    <tr>\n",
       "      <th>40</th>\n",
       "      <td>housefly</td>\n",
       "      <td>6</td>\n",
       "      <td>6</td>\n",
       "      <td>True</td>\n",
       "    </tr>\n",
       "    <tr>\n",
       "      <th>50</th>\n",
       "      <td>mongoose</td>\n",
       "      <td>1</td>\n",
       "      <td>1</td>\n",
       "      <td>True</td>\n",
       "    </tr>\n",
       "    <tr>\n",
       "      <th>4</th>\n",
       "      <td>boar</td>\n",
       "      <td>1</td>\n",
       "      <td>1</td>\n",
       "      <td>True</td>\n",
       "    </tr>\n",
       "    <tr>\n",
       "      <th>87</th>\n",
       "      <td>swan</td>\n",
       "      <td>2</td>\n",
       "      <td>2</td>\n",
       "      <td>True</td>\n",
       "    </tr>\n",
       "    <tr>\n",
       "      <th>80</th>\n",
       "      <td>slowworm</td>\n",
       "      <td>3</td>\n",
       "      <td>3</td>\n",
       "      <td>True</td>\n",
       "    </tr>\n",
       "    <tr>\n",
       "      <th>70</th>\n",
       "      <td>reindeer</td>\n",
       "      <td>1</td>\n",
       "      <td>1</td>\n",
       "      <td>True</td>\n",
       "    </tr>\n",
       "    <tr>\n",
       "      <th>37</th>\n",
       "      <td>hawk</td>\n",
       "      <td>2</td>\n",
       "      <td>2</td>\n",
       "      <td>True</td>\n",
       "    </tr>\n",
       "    <tr>\n",
       "      <th>7</th>\n",
       "      <td>carp</td>\n",
       "      <td>4</td>\n",
       "      <td>4</td>\n",
       "      <td>True</td>\n",
       "    </tr>\n",
       "    <tr>\n",
       "      <th>44</th>\n",
       "      <td>leopard</td>\n",
       "      <td>1</td>\n",
       "      <td>1</td>\n",
       "      <td>True</td>\n",
       "    </tr>\n",
       "    <tr>\n",
       "      <th>53</th>\n",
       "      <td>octopus</td>\n",
       "      <td>0</td>\n",
       "      <td>7</td>\n",
       "      <td>True</td>\n",
       "    </tr>\n",
       "    <tr>\n",
       "      <th>60</th>\n",
       "      <td>pike</td>\n",
       "      <td>4</td>\n",
       "      <td>4</td>\n",
       "      <td>True</td>\n",
       "    </tr>\n",
       "    <tr>\n",
       "      <th>84</th>\n",
       "      <td>squirrel</td>\n",
       "      <td>1</td>\n",
       "      <td>1</td>\n",
       "      <td>True</td>\n",
       "    </tr>\n",
       "    <tr>\n",
       "      <th>47</th>\n",
       "      <td>lynx</td>\n",
       "      <td>1</td>\n",
       "      <td>1</td>\n",
       "      <td>True</td>\n",
       "    </tr>\n",
       "    <tr>\n",
       "      <th>94</th>\n",
       "      <td>vole</td>\n",
       "      <td>1</td>\n",
       "      <td>1</td>\n",
       "      <td>True</td>\n",
       "    </tr>\n",
       "    <tr>\n",
       "      <th>89</th>\n",
       "      <td>toad</td>\n",
       "      <td>5</td>\n",
       "      <td>5</td>\n",
       "      <td>True</td>\n",
       "    </tr>\n",
       "    <tr>\n",
       "      <th>92</th>\n",
       "      <td>tuna</td>\n",
       "      <td>4</td>\n",
       "      <td>4</td>\n",
       "      <td>True</td>\n",
       "    </tr>\n",
       "    <tr>\n",
       "      <th>93</th>\n",
       "      <td>vampire</td>\n",
       "      <td>1</td>\n",
       "      <td>1</td>\n",
       "      <td>True</td>\n",
       "    </tr>\n",
       "    <tr>\n",
       "      <th>49</th>\n",
       "      <td>mole</td>\n",
       "      <td>1</td>\n",
       "      <td>1</td>\n",
       "      <td>True</td>\n",
       "    </tr>\n",
       "    <tr>\n",
       "      <th>12</th>\n",
       "      <td>chub</td>\n",
       "      <td>4</td>\n",
       "      <td>4</td>\n",
       "      <td>True</td>\n",
       "    </tr>\n",
       "    <tr>\n",
       "      <th>31</th>\n",
       "      <td>goat</td>\n",
       "      <td>1</td>\n",
       "      <td>1</td>\n",
       "      <td>True</td>\n",
       "    </tr>\n",
       "    <tr>\n",
       "      <th>76</th>\n",
       "      <td>seasnake</td>\n",
       "      <td>3</td>\n",
       "      <td>3</td>\n",
       "      <td>True</td>\n",
       "    </tr>\n",
       "    <tr>\n",
       "      <th>77</th>\n",
       "      <td>seawasp</td>\n",
       "      <td>4</td>\n",
       "      <td>7</td>\n",
       "      <td>False</td>\n",
       "    </tr>\n",
       "    <tr>\n",
       "      <th>65</th>\n",
       "      <td>pony</td>\n",
       "      <td>1</td>\n",
       "      <td>1</td>\n",
       "      <td>True</td>\n",
       "    </tr>\n",
       "    <tr>\n",
       "      <th>14</th>\n",
       "      <td>crab</td>\n",
       "      <td>5</td>\n",
       "      <td>7</td>\n",
       "      <td>False</td>\n",
       "    </tr>\n",
       "    <tr>\n",
       "      <th>51</th>\n",
       "      <td>moth</td>\n",
       "      <td>6</td>\n",
       "      <td>6</td>\n",
       "      <td>True</td>\n",
       "    </tr>\n",
       "    <tr>\n",
       "      <th>22</th>\n",
       "      <td>elephant</td>\n",
       "      <td>1</td>\n",
       "      <td>1</td>\n",
       "      <td>True</td>\n",
       "    </tr>\n",
       "  </tbody>\n",
       "</table>\n",
       "</div>"
      ],
      "text/plain": [
       "       Animal  Predicción clase  Clase original  Correcto\n",
       "100      wren                 2               2      True\n",
       "58    penguin                 2               2      True\n",
       "43       lark                 2               2      True\n",
       "21       duck                 2               2      True\n",
       "10    cheetah                 1               1      True\n",
       "40   housefly                 6               6      True\n",
       "50   mongoose                 1               1      True\n",
       "4        boar                 1               1      True\n",
       "87       swan                 2               2      True\n",
       "80   slowworm                 3               3      True\n",
       "70   reindeer                 1               1      True\n",
       "37       hawk                 2               2      True\n",
       "7        carp                 4               4      True\n",
       "44    leopard                 1               1      True\n",
       "53    octopus                 0               7      True\n",
       "60       pike                 4               4      True\n",
       "84   squirrel                 1               1      True\n",
       "47       lynx                 1               1      True\n",
       "94       vole                 1               1      True\n",
       "89       toad                 5               5      True\n",
       "92       tuna                 4               4      True\n",
       "93    vampire                 1               1      True\n",
       "49       mole                 1               1      True\n",
       "12       chub                 4               4      True\n",
       "31       goat                 1               1      True\n",
       "76   seasnake                 3               3      True\n",
       "77    seawasp                 4               7     False\n",
       "65       pony                 1               1      True\n",
       "14       crab                 5               7     False\n",
       "51       moth                 6               6      True\n",
       "22   elephant                 1               1      True"
      ]
     },
     "execution_count": 21,
     "metadata": {},
     "output_type": "execute_result"
    }
   ],
   "source": [
    "res = pd.DataFrame()\n",
    "res['Animal'] = test_name\n",
    "res['Predicción clase'] = test_predict\n",
    "res['Clase original'] = test_y\n",
    "res['Correcto'] = test_correct\n",
    "\n",
    "# Mostramos el DataFrame\n",
    "res"
   ]
  },
  {
   "cell_type": "code",
   "execution_count": null,
   "id": "ff71bb9d",
   "metadata": {},
   "outputs": [],
   "source": []
  }
 ],
 "metadata": {
  "kernelspec": {
   "display_name": "Python 3 (ipykernel)",
   "language": "python",
   "name": "python3"
  },
  "language_info": {
   "codemirror_mode": {
    "name": "ipython",
    "version": 3
   },
   "file_extension": ".py",
   "mimetype": "text/x-python",
   "name": "python",
   "nbconvert_exporter": "python",
   "pygments_lexer": "ipython3",
   "version": "3.10.8"
  }
 },
 "nbformat": 4,
 "nbformat_minor": 5
}
